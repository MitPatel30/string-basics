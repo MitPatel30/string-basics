{
 "cells": [
  {
   "cell_type": "markdown",
   "id": "e928d948",
   "metadata": {},
   "source": [
    "basics of string on 15 may 2022 \n",
    "indexes,\n",
    "forward and backward index"
   ]
  },
  {
   "cell_type": "code",
   "execution_count": 1,
   "id": "dfd0a512",
   "metadata": {},
   "outputs": [
    {
     "data": {
      "text/plain": [
       "'mitesh'"
      ]
     },
     "execution_count": 1,
     "metadata": {},
     "output_type": "execute_result"
    }
   ],
   "source": [
    "m=\"mitesh\"\n",
    "m"
   ]
  },
  {
   "cell_type": "code",
   "execution_count": 2,
   "id": "5a937419",
   "metadata": {},
   "outputs": [
    {
     "data": {
      "text/plain": [
       "<function str.upper()>"
      ]
     },
     "execution_count": 2,
     "metadata": {},
     "output_type": "execute_result"
    }
   ],
   "source": [
    "m.upper"
   ]
  },
  {
   "cell_type": "code",
   "execution_count": 3,
   "id": "06f66d18",
   "metadata": {},
   "outputs": [
    {
     "data": {
      "text/plain": [
       "'MITESH'"
      ]
     },
     "execution_count": 3,
     "metadata": {},
     "output_type": "execute_result"
    }
   ],
   "source": [
    "m.upper()"
   ]
  },
  {
   "cell_type": "code",
   "execution_count": 4,
   "id": "5d061d40",
   "metadata": {},
   "outputs": [
    {
     "data": {
      "text/plain": [
       "'Mitesh'"
      ]
     },
     "execution_count": 4,
     "metadata": {},
     "output_type": "execute_result"
    }
   ],
   "source": [
    "m.capitalize()"
   ]
  },
  {
   "cell_type": "code",
   "execution_count": 5,
   "id": "53d9e6f7",
   "metadata": {},
   "outputs": [
    {
     "data": {
      "text/plain": [
       "'i'"
      ]
     },
     "execution_count": 5,
     "metadata": {},
     "output_type": "execute_result"
    }
   ],
   "source": [
    "s=\"ineuron\"\n",
    "s[0]"
   ]
  },
  {
   "cell_type": "code",
   "execution_count": 6,
   "id": "947643c7",
   "metadata": {},
   "outputs": [
    {
     "data": {
      "text/plain": [
       "'n'"
      ]
     },
     "execution_count": 6,
     "metadata": {},
     "output_type": "execute_result"
    }
   ],
   "source": [
    "s[-1]"
   ]
  },
  {
   "cell_type": "code",
   "execution_count": 7,
   "id": "2cdfbd4b",
   "metadata": {},
   "outputs": [
    {
     "data": {
      "text/plain": [
       "'u'"
      ]
     },
     "execution_count": 7,
     "metadata": {},
     "output_type": "execute_result"
    }
   ],
   "source": [
    "s[-4]"
   ]
  },
  {
   "cell_type": "code",
   "execution_count": 9,
   "id": "95357c22",
   "metadata": {},
   "outputs": [
    {
     "data": {
      "text/plain": [
       "'d'"
      ]
     },
     "execution_count": 9,
     "metadata": {},
     "output_type": "execute_result"
    }
   ],
   "source": [
    "s1=\"sudh\"\n",
    "s1[2]\n"
   ]
  },
  {
   "cell_type": "code",
   "execution_count": 17,
   "id": "a816c5a5",
   "metadata": {},
   "outputs": [],
   "source": [
    "g=\"this is my first programming class's\"\n"
   ]
  },
  {
   "cell_type": "code",
   "execution_count": 18,
   "id": "826d2c8b",
   "metadata": {},
   "outputs": [
    {
     "data": {
      "text/plain": [
       "\"this is my first programming class's\""
      ]
     },
     "execution_count": 18,
     "metadata": {},
     "output_type": "execute_result"
    }
   ],
   "source": [
    "g"
   ]
  },
  {
   "cell_type": "code",
   "execution_count": 19,
   "id": "f9d399a8",
   "metadata": {},
   "outputs": [
    {
     "data": {
      "text/plain": [
       "'t'"
      ]
     },
     "execution_count": 19,
     "metadata": {},
     "output_type": "execute_result"
    }
   ],
   "source": [
    "g[0]"
   ]
  },
  {
   "cell_type": "code",
   "execution_count": 22,
   "id": "d8d5da59",
   "metadata": {},
   "outputs": [
    {
     "data": {
      "text/plain": [
       "'this '"
      ]
     },
     "execution_count": 22,
     "metadata": {},
     "output_type": "execute_result"
    }
   ],
   "source": [
    "g[0:5]"
   ]
  },
  {
   "cell_type": "code",
   "execution_count": 23,
   "id": "2343dcc5",
   "metadata": {},
   "outputs": [
    {
     "data": {
      "text/plain": [
       "'this is my firs'"
      ]
     },
     "execution_count": 23,
     "metadata": {},
     "output_type": "execute_result"
    }
   ],
   "source": [
    "g[0:15]"
   ]
  },
  {
   "cell_type": "code",
   "execution_count": 24,
   "id": "9b8686ab",
   "metadata": {},
   "outputs": [
    {
     "data": {
      "text/plain": [
       "'s my first pro'"
      ]
     },
     "execution_count": 24,
     "metadata": {},
     "output_type": "execute_result"
    }
   ],
   "source": [
    "g[6:20]"
   ]
  },
  {
   "cell_type": "code",
   "execution_count": 26,
   "id": "1b53cb5a",
   "metadata": {},
   "outputs": [
    {
     "data": {
      "text/plain": [
       "'ssyitr'"
      ]
     },
     "execution_count": 26,
     "metadata": {},
     "output_type": "execute_result"
    }
   ],
   "source": [
    "g[3:20:3]"
   ]
  },
  {
   "cell_type": "code",
   "execution_count": 42,
   "id": "3bb40080",
   "metadata": {},
   "outputs": [
    {
     "data": {
      "text/plain": [
       "'sudhanshu'"
      ]
     },
     "execution_count": 42,
     "metadata": {},
     "output_type": "execute_result"
    }
   ],
   "source": [
    "s2=\"sudhanshu\"\n",
    "s2"
   ]
  },
  {
   "cell_type": "code",
   "execution_count": 43,
   "id": "f76a61b2",
   "metadata": {},
   "outputs": [
    {
     "data": {
      "text/plain": [
       "'sudhansh'"
      ]
     },
     "execution_count": 43,
     "metadata": {},
     "output_type": "execute_result"
    }
   ],
   "source": [
    "s2[0:8:1]"
   ]
  },
  {
   "cell_type": "markdown",
   "id": "064bd75f",
   "metadata": {},
   "source": [
    "The below example output is blank as we are moving from a  small positve index to a  large positive index with a negative jump which would always go in the directin before the string hence blank"
   ]
  },
  {
   "cell_type": "code",
   "execution_count": 32,
   "id": "1fede0e1",
   "metadata": {},
   "outputs": [
    {
     "data": {
      "text/plain": [
       "''"
      ]
     },
     "execution_count": 32,
     "metadata": {},
     "output_type": "execute_result"
    }
   ],
   "source": [
    "s2[0:5:-1]\n"
   ]
  },
  {
   "cell_type": "markdown",
   "id": "5b28e445",
   "metadata": {},
   "source": [
    "here we are moving from a "
   ]
  },
  {
   "cell_type": "code",
   "execution_count": 56,
   "id": "e69bf45e",
   "metadata": {},
   "outputs": [
    {
     "data": {
      "text/plain": [
       "'uhsnahdu'"
      ]
     },
     "execution_count": 56,
     "metadata": {},
     "output_type": "execute_result"
    }
   ],
   "source": [
    "s2[8:0:-1]"
   ]
  },
  {
   "cell_type": "code",
   "execution_count": 44,
   "id": "9d760512",
   "metadata": {},
   "outputs": [
    {
     "data": {
      "text/plain": [
       "'usad'"
      ]
     },
     "execution_count": 44,
     "metadata": {},
     "output_type": "execute_result"
    }
   ],
   "source": [
    "s2[8:0:-2]"
   ]
  },
  {
   "cell_type": "code",
   "execution_count": 51,
   "id": "867e70b0",
   "metadata": {},
   "outputs": [
    {
     "data": {
      "text/plain": [
       "'hanshu'"
      ]
     },
     "execution_count": 51,
     "metadata": {},
     "output_type": "execute_result"
    }
   ],
   "source": [
    "\n",
    "s2[3:]"
   ]
  },
  {
   "cell_type": "code",
   "execution_count": 52,
   "id": "7fa82916",
   "metadata": {},
   "outputs": [
    {
     "data": {
      "text/plain": [
       "'hu'"
      ]
     },
     "execution_count": 52,
     "metadata": {},
     "output_type": "execute_result"
    }
   ],
   "source": [
    "s2[-2:]"
   ]
  },
  {
   "cell_type": "markdown",
   "id": "e100fe3b",
   "metadata": {},
   "source": [
    "in this way we start from the uper limit that is -2 and end at default jump that is 1 hence the output\n",
    "\n",
    "\n"
   ]
  },
  {
   "cell_type": "markdown",
   "id": "7e6c6885",
   "metadata": {},
   "source": [
    "s2[::1]"
   ]
  },
  {
   "cell_type": "code",
   "execution_count": 53,
   "id": "9d734f77",
   "metadata": {},
   "outputs": [
    {
     "data": {
      "text/plain": [
       "'sudhanshu'"
      ]
     },
     "execution_count": 53,
     "metadata": {},
     "output_type": "execute_result"
    }
   ],
   "source": [
    "s2[::1]"
   ]
  },
  {
   "cell_type": "code",
   "execution_count": 54,
   "id": "78737d8d",
   "metadata": {},
   "outputs": [
    {
     "data": {
      "text/plain": [
       "'uhsnahdus'"
      ]
     },
     "execution_count": 54,
     "metadata": {},
     "output_type": "execute_result"
    }
   ],
   "source": [
    "s2[::-1]"
   ]
  },
  {
   "cell_type": "code",
   "execution_count": 57,
   "id": "7949f399",
   "metadata": {},
   "outputs": [
    {
     "data": {
      "text/plain": [
       "'ineuron'"
      ]
     },
     "execution_count": 57,
     "metadata": {},
     "output_type": "execute_result"
    }
   ],
   "source": [
    "s3='ineuron'\n",
    "s3"
   ]
  },
  {
   "cell_type": "code",
   "execution_count": 58,
   "id": "90a1a0ac",
   "metadata": {},
   "outputs": [
    {
     "data": {
      "text/plain": [
       "'norueni'"
      ]
     },
     "execution_count": 58,
     "metadata": {},
     "output_type": "execute_result"
    }
   ],
   "source": [
    "s3[::-1]"
   ]
  },
  {
   "cell_type": "code",
   "execution_count": 61,
   "id": "5470a423",
   "metadata": {},
   "outputs": [
    {
     "data": {
      "text/plain": [
       "'noruen'"
      ]
     },
     "execution_count": 61,
     "metadata": {},
     "output_type": "execute_result"
    }
   ],
   "source": [
    "s3[-1:-7:-1]"
   ]
  },
  {
   "cell_type": "code",
   "execution_count": 66,
   "id": "1882d3ea",
   "metadata": {},
   "outputs": [
    {
     "data": {
      "text/plain": [
       "''"
      ]
     },
     "execution_count": 66,
     "metadata": {},
     "output_type": "execute_result"
    }
   ],
   "source": [
    "s3[-7:-2:-2]"
   ]
  },
  {
   "cell_type": "code",
   "execution_count": 67,
   "id": "bb908146",
   "metadata": {},
   "outputs": [
    {
     "data": {
      "text/plain": [
       "'sudhanshu'"
      ]
     },
     "execution_count": 67,
     "metadata": {},
     "output_type": "execute_result"
    }
   ],
   "source": [
    "s2"
   ]
  },
  {
   "cell_type": "code",
   "execution_count": 68,
   "id": "cb0b443c",
   "metadata": {},
   "outputs": [
    {
     "data": {
      "text/plain": [
       "''"
      ]
     },
     "execution_count": 68,
     "metadata": {},
     "output_type": "execute_result"
    }
   ],
   "source": [
    "s2[:-1:-1]"
   ]
  },
  {
   "cell_type": "markdown",
   "id": "0fb29e6b",
   "metadata": {},
   "source": [
    "above exmaple two diffrent direcction hence the answer is blank\n",
    "\n",
    "all examples are called slicing and indexing in  string"
   ]
  },
  {
   "cell_type": "code",
   "execution_count": 69,
   "id": "f1110c59",
   "metadata": {},
   "outputs": [
    {
     "data": {
      "text/plain": [
       "''"
      ]
     },
     "execution_count": 69,
     "metadata": {},
     "output_type": "execute_result"
    }
   ],
   "source": [
    "s2[-7:0:1]"
   ]
  },
  {
   "cell_type": "code",
   "execution_count": 70,
   "id": "59a44256",
   "metadata": {},
   "outputs": [
    {
     "data": {
      "text/plain": [
       "'ineuron'"
      ]
     },
     "execution_count": 70,
     "metadata": {},
     "output_type": "execute_result"
    }
   ],
   "source": [
    "s"
   ]
  },
  {
   "cell_type": "code",
   "execution_count": 74,
   "id": "c17bd463",
   "metadata": {},
   "outputs": [
    {
     "data": {
      "text/plain": [
       "'ineuron11111'"
      ]
     },
     "execution_count": 74,
     "metadata": {},
     "output_type": "execute_result"
    }
   ],
   "source": [
    "s+'11111'"
   ]
  },
  {
   "cell_type": "code",
   "execution_count": 72,
   "id": "2488e04f",
   "metadata": {},
   "outputs": [
    {
     "data": {
      "text/plain": [
       "int"
      ]
     },
     "execution_count": 72,
     "metadata": {},
     "output_type": "execute_result"
    }
   ],
   "source": [
    "type(1)"
   ]
  },
  {
   "cell_type": "markdown",
   "id": "77756386",
   "metadata": {},
   "source": [
    "TYPECASTINGis that str(1)\n",
    "and the total command is called concationation\n"
   ]
  },
  {
   "cell_type": "code",
   "execution_count": 75,
   "id": "b89d1591",
   "metadata": {},
   "outputs": [
    {
     "data": {
      "text/plain": [
       "'ineuron10'"
      ]
     },
     "execution_count": 75,
     "metadata": {},
     "output_type": "execute_result"
    }
   ],
   "source": [
    "s+str(10)"
   ]
  },
  {
   "cell_type": "code",
   "execution_count": 76,
   "id": "79b1ca64",
   "metadata": {},
   "outputs": [
    {
     "data": {
      "text/plain": [
       "7"
      ]
     },
     "execution_count": 76,
     "metadata": {},
     "output_type": "execute_result"
    }
   ],
   "source": [
    "len(s)"
   ]
  },
  {
   "cell_type": "code",
   "execution_count": 77,
   "id": "dc349aa9",
   "metadata": {},
   "outputs": [
    {
     "ename": "NameError",
     "evalue": "name 'count' is not defined",
     "output_type": "error",
     "traceback": [
      "\u001b[1;31m---------------------------------------------------------------------------\u001b[0m",
      "\u001b[1;31mNameError\u001b[0m                                 Traceback (most recent call last)",
      "Input \u001b[1;32mIn [77]\u001b[0m, in \u001b[0;36m<cell line: 1>\u001b[1;34m()\u001b[0m\n\u001b[1;32m----> 1\u001b[0m \u001b[43mcount\u001b[49m(s)\n",
      "\u001b[1;31mNameError\u001b[0m: name 'count' is not defined"
     ]
    }
   ],
   "source": [
    "count(s)"
   ]
  },
  {
   "cell_type": "code",
   "execution_count": 78,
   "id": "4889e2c6",
   "metadata": {},
   "outputs": [
    {
     "ename": "NameError",
     "evalue": "name 'count' is not defined",
     "output_type": "error",
     "traceback": [
      "\u001b[1;31m---------------------------------------------------------------------------\u001b[0m",
      "\u001b[1;31mNameError\u001b[0m                                 Traceback (most recent call last)",
      "Input \u001b[1;32mIn [78]\u001b[0m, in \u001b[0;36m<cell line: 1>\u001b[1;34m()\u001b[0m\n\u001b[1;32m----> 1\u001b[0m s(\u001b[43mcount\u001b[49m)\n",
      "\u001b[1;31mNameError\u001b[0m: name 'count' is not defined"
     ]
    }
   ],
   "source": [
    "s(count)"
   ]
  },
  {
   "cell_type": "code",
   "execution_count": 79,
   "id": "c53cacfe",
   "metadata": {},
   "outputs": [
    {
     "data": {
      "text/plain": [
       "'ineuronineuron'"
      ]
     },
     "execution_count": 79,
     "metadata": {},
     "output_type": "execute_result"
    }
   ],
   "source": [
    "s*2"
   ]
  },
  {
   "cell_type": "code",
   "execution_count": 80,
   "id": "85038730",
   "metadata": {},
   "outputs": [
    {
     "ename": "TypeError",
     "evalue": "can't multiply sequence by non-int of type 'str'",
     "output_type": "error",
     "traceback": [
      "\u001b[1;31m---------------------------------------------------------------------------\u001b[0m",
      "\u001b[1;31mTypeError\u001b[0m                                 Traceback (most recent call last)",
      "Input \u001b[1;32mIn [80]\u001b[0m, in \u001b[0;36m<cell line: 1>\u001b[1;34m()\u001b[0m\n\u001b[1;32m----> 1\u001b[0m \u001b[43ms\u001b[49m\u001b[38;5;241;43m*\u001b[39;49m\u001b[38;5;28;43mstr\u001b[39;49m\u001b[43m(\u001b[49m\u001b[38;5;241;43m2\u001b[39;49m\u001b[43m)\u001b[49m\n",
      "\u001b[1;31mTypeError\u001b[0m: can't multiply sequence by non-int of type 'str'"
     ]
    }
   ],
   "source": [
    "s*str(2)"
   ]
  },
  {
   "cell_type": "code",
   "execution_count": 81,
   "id": "7f32b91d",
   "metadata": {},
   "outputs": [
    {
     "data": {
      "text/plain": [
       "'ineuronineuronineuronineuron'"
      ]
     },
     "execution_count": 81,
     "metadata": {},
     "output_type": "execute_result"
    }
   ],
   "source": [
    "s*4"
   ]
  },
  {
   "cell_type": "code",
   "execution_count": 82,
   "id": "f2373de1",
   "metadata": {},
   "outputs": [
    {
     "data": {
      "text/plain": [
       "'ineuron'"
      ]
     },
     "execution_count": 82,
     "metadata": {},
     "output_type": "execute_result"
    }
   ],
   "source": [
    "s.casefold()"
   ]
  },
  {
   "cell_type": "code",
   "execution_count": 85,
   "id": "6f8ed78c",
   "metadata": {},
   "outputs": [
    {
     "data": {
      "text/plain": [
       "<function str.center(width, fillchar=' ', /)>"
      ]
     },
     "execution_count": 85,
     "metadata": {},
     "output_type": "execute_result"
    }
   ],
   "source": [
    "s.center"
   ]
  },
  {
   "cell_type": "code",
   "execution_count": 93,
   "id": "bc4edf03",
   "metadata": {},
   "outputs": [],
   "source": [
    "s=\"Mitesh Ramesh patel\""
   ]
  },
  {
   "cell_type": "code",
   "execution_count": 94,
   "id": "d1fe94de",
   "metadata": {},
   "outputs": [
    {
     "data": {
      "text/plain": [
       "'Mitesh Ramesh patel'"
      ]
     },
     "execution_count": 94,
     "metadata": {},
     "output_type": "execute_result"
    }
   ],
   "source": [
    "s"
   ]
  },
  {
   "cell_type": "code",
   "execution_count": 96,
   "id": "06add2d5",
   "metadata": {},
   "outputs": [
    {
     "data": {
      "text/plain": [
       "2"
      ]
     },
     "execution_count": 96,
     "metadata": {},
     "output_type": "execute_result"
    }
   ],
   "source": [
    "s.count('s')"
   ]
  },
  {
   "cell_type": "code",
   "execution_count": 98,
   "id": "1c887a60",
   "metadata": {},
   "outputs": [
    {
     "data": {
      "text/plain": [
       "['Mites', ' Rames', ' patel']"
      ]
     },
     "execution_count": 98,
     "metadata": {},
     "output_type": "execute_result"
    }
   ],
   "source": [
    "s.split('h')"
   ]
  },
  {
   "cell_type": "code",
   "execution_count": 99,
   "id": "1844269a",
   "metadata": {},
   "outputs": [],
   "source": [
    "sw=\"\"\"\"The Samsung Group[3] (or simply Samsung, stylized as SΛMSUNG) (Korean: 삼성 [samsʌŋ]) is a South Korean multinational manufacturing conglomerate headquartered in Samsung Town, Seoul, South Korea.[1] It comprises numerous affiliated businesses,[1] most of them united under the Samsung brand, and is the largest South Korean chaebol (business conglomerate). As of 2020, Samsung has the 8th highest global brand value.[4]\"\"\""
   ]
  },
  {
   "cell_type": "code",
   "execution_count": 100,
   "id": "e37b6b06",
   "metadata": {},
   "outputs": [
    {
     "data": {
      "text/plain": [
       "'\"The Samsung Group[3] (or simply Samsung, stylized as SΛMSUNG) (Korean: 삼성 [samsʌŋ]) is a South Korean multinational manufacturing conglomerate headquartered in Samsung Town, Seoul, South Korea.[1] It comprises numerous affiliated businesses,[1] most of them united under the Samsung brand, and is the largest South Korean chaebol (business conglomerate). As of 2020, Samsung has the 8th highest global brand value.[4]'"
      ]
     },
     "execution_count": 100,
     "metadata": {},
     "output_type": "execute_result"
    }
   ],
   "source": [
    "sw"
   ]
  },
  {
   "cell_type": "code",
   "execution_count": 101,
   "id": "4640c290",
   "metadata": {},
   "outputs": [
    {
     "data": {
      "text/plain": [
       "'\"'"
      ]
     },
     "execution_count": 101,
     "metadata": {},
     "output_type": "execute_result"
    }
   ],
   "source": [
    "sw[0]"
   ]
  },
  {
   "cell_type": "code",
   "execution_count": 102,
   "id": "aacb163d",
   "metadata": {},
   "outputs": [
    {
     "data": {
      "text/plain": [
       "']'"
      ]
     },
     "execution_count": 102,
     "metadata": {},
     "output_type": "execute_result"
    }
   ],
   "source": [
    "sw[-1]"
   ]
  },
  {
   "cell_type": "code",
   "execution_count": 107,
   "id": "e361c61d",
   "metadata": {},
   "outputs": [
    {
     "data": {
      "text/plain": [
       "4"
      ]
     },
     "execution_count": 107,
     "metadata": {},
     "output_type": "execute_result"
    }
   ],
   "source": [
    "sw.count('Korea')"
   ]
  },
  {
   "cell_type": "code",
   "execution_count": 111,
   "id": "4b39f5f9",
   "metadata": {},
   "outputs": [
    {
     "data": {
      "text/plain": [
       "list"
      ]
     },
     "execution_count": 111,
     "metadata": {},
     "output_type": "execute_result"
    }
   ],
   "source": [
    "type(sw.split(\" \"))"
   ]
  },
  {
   "cell_type": "code",
   "execution_count": 105,
   "id": "757fb30f",
   "metadata": {},
   "outputs": [
    {
     "data": {
      "text/plain": [
       "str"
      ]
     },
     "execution_count": 105,
     "metadata": {},
     "output_type": "execute_result"
    }
   ],
   "source": [
    "type(sw)"
   ]
  },
  {
   "cell_type": "code",
   "execution_count": 108,
   "id": "492757ca",
   "metadata": {},
   "outputs": [
    {
     "data": {
      "text/plain": [
       "'\"The Samsung Group[3] (or simply Samsung, stylized as SΛMSUNG) (Korean: 삼성 [samsʌŋ]) is a South Korean multinational manufacturing conglomerate headquartered in Samsung Town, Seoul, South Korea.[1] It comprises numerous affiliated businesses,[1] most of them united under the Samsung brand, and is the largest South Korean chaebol (business conglomerate). As of 2020, Samsung has the 8th highest global brand value.[4]'"
      ]
     },
     "execution_count": 108,
     "metadata": {},
     "output_type": "execute_result"
    }
   ],
   "source": [
    "sw"
   ]
  },
  {
   "cell_type": "code",
   "execution_count": 119,
   "id": "93092be8",
   "metadata": {},
   "outputs": [
    {
     "data": {
      "text/plain": [
       "2"
      ]
     },
     "execution_count": 119,
     "metadata": {},
     "output_type": "execute_result"
    }
   ],
   "source": [
    "sw.count('South Korean')"
   ]
  },
  {
   "cell_type": "code",
   "execution_count": 118,
   "id": "cf95ce36",
   "metadata": {},
   "outputs": [
    {
     "data": {
      "text/plain": [
       "1"
      ]
     },
     "execution_count": 118,
     "metadata": {},
     "output_type": "execute_result"
    }
   ],
   "source": [
    "sw.count('The')"
   ]
  },
  {
   "cell_type": "code",
   "execution_count": 120,
   "id": "05ea4890",
   "metadata": {},
   "outputs": [
    {
     "data": {
      "text/plain": [
       "<function str.upper()>"
      ]
     },
     "execution_count": 120,
     "metadata": {},
     "output_type": "execute_result"
    }
   ],
   "source": [
    "sw.upper"
   ]
  },
  {
   "cell_type": "code",
   "execution_count": 121,
   "id": "7d36d43b",
   "metadata": {},
   "outputs": [
    {
     "ename": "TypeError",
     "evalue": "str.upper() takes no arguments (1 given)",
     "output_type": "error",
     "traceback": [
      "\u001b[1;31m---------------------------------------------------------------------------\u001b[0m",
      "\u001b[1;31mTypeError\u001b[0m                                 Traceback (most recent call last)",
      "Input \u001b[1;32mIn [121]\u001b[0m, in \u001b[0;36m<cell line: 1>\u001b[1;34m()\u001b[0m\n\u001b[1;32m----> 1\u001b[0m \u001b[43msw\u001b[49m\u001b[38;5;241;43m.\u001b[39;49m\u001b[43mupper\u001b[49m\u001b[43m(\u001b[49m\u001b[43msw\u001b[49m\u001b[43m)\u001b[49m\n",
      "\u001b[1;31mTypeError\u001b[0m: str.upper() takes no arguments (1 given)"
     ]
    }
   ],
   "source": [
    "sw.upper(sw)"
   ]
  },
  {
   "cell_type": "code",
   "execution_count": 122,
   "id": "b0e493bf",
   "metadata": {},
   "outputs": [
    {
     "data": {
      "text/plain": [
       "<function str.upper()>"
      ]
     },
     "execution_count": 122,
     "metadata": {},
     "output_type": "execute_result"
    }
   ],
   "source": [
    "sw.upper"
   ]
  },
  {
   "cell_type": "code",
   "execution_count": 123,
   "id": "eb1e2b19",
   "metadata": {},
   "outputs": [
    {
     "data": {
      "text/plain": [
       "'\"The Samsung Group[3] (or simply Samsung, stylized as SΛMSUNG) (Korean: 삼성 [samsʌŋ]) is a South Korean multinational manufacturing conglomerate headquartered in Samsung Town, Seoul, South Korea.[1] It comprises numerous affiliated businesses,[1] most of them united under the Samsung brand, and is the largest South Korean chaebol (business conglomerate). As of 2020, Samsung has the 8th highest global brand value.[4]'"
      ]
     },
     "execution_count": 123,
     "metadata": {},
     "output_type": "execute_result"
    }
   ],
   "source": [
    "sw"
   ]
  },
  {
   "cell_type": "code",
   "execution_count": 124,
   "id": "f4a6fcfd",
   "metadata": {},
   "outputs": [
    {
     "ename": "TypeError",
     "evalue": "str.upper() takes no arguments (1 given)",
     "output_type": "error",
     "traceback": [
      "\u001b[1;31m---------------------------------------------------------------------------\u001b[0m",
      "\u001b[1;31mTypeError\u001b[0m                                 Traceback (most recent call last)",
      "Input \u001b[1;32mIn [124]\u001b[0m, in \u001b[0;36m<cell line: 1>\u001b[1;34m()\u001b[0m\n\u001b[1;32m----> 1\u001b[0m \u001b[43msw\u001b[49m\u001b[38;5;241;43m.\u001b[39;49m\u001b[43mupper\u001b[49m\u001b[43m(\u001b[49m\u001b[38;5;124;43m'\u001b[39;49m\u001b[38;5;124;43msw\u001b[39;49m\u001b[38;5;124;43m'\u001b[39;49m\u001b[43m)\u001b[49m\n",
      "\u001b[1;31mTypeError\u001b[0m: str.upper() takes no arguments (1 given)"
     ]
    }
   ],
   "source": [
    "sw.upper('sw')"
   ]
  },
  {
   "cell_type": "code",
   "execution_count": 125,
   "id": "543e6e39",
   "metadata": {},
   "outputs": [
    {
     "data": {
      "text/plain": [
       "<function str.upper()>"
      ]
     },
     "execution_count": 125,
     "metadata": {},
     "output_type": "execute_result"
    }
   ],
   "source": [
    "sw.upper"
   ]
  },
  {
   "cell_type": "code",
   "execution_count": 126,
   "id": "366688aa",
   "metadata": {},
   "outputs": [
    {
     "ename": "TypeError",
     "evalue": "str.upper() takes no arguments (1 given)",
     "output_type": "error",
     "traceback": [
      "\u001b[1;31m---------------------------------------------------------------------------\u001b[0m",
      "\u001b[1;31mTypeError\u001b[0m                                 Traceback (most recent call last)",
      "Input \u001b[1;32mIn [126]\u001b[0m, in \u001b[0;36m<cell line: 1>\u001b[1;34m()\u001b[0m\n\u001b[1;32m----> 1\u001b[0m \u001b[43msw\u001b[49m\u001b[38;5;241;43m.\u001b[39;49m\u001b[43mupper\u001b[49m\u001b[43m(\u001b[49m\u001b[38;5;124;43m'\u001b[39;49m\u001b[38;5;124;43msw\u001b[39;49m\u001b[38;5;124;43m'\u001b[39;49m\u001b[43m)\u001b[49m\n",
      "\u001b[1;31mTypeError\u001b[0m: str.upper() takes no arguments (1 given)"
     ]
    }
   ],
   "source": [
    "sw.upper('sw')"
   ]
  },
  {
   "cell_type": "code",
   "execution_count": 127,
   "id": "1810f6d2",
   "metadata": {},
   "outputs": [
    {
     "data": {
      "text/plain": [
       "'\"The Samsung Group[3] (or simply Samsung, stylized as SΛMSUNG) (Korean: 삼성 [samsʌŋ]) is a South Korean multinational manufacturing conglomerate headquartered in Samsung Town, Seoul, South Korea.[1] It comprises numerous affiliated businesses,[1] most of them united under the Samsung brand, and is the largest South Korean chaebol (business conglomerate). As of 2020, Samsung has the 8th highest global brand value.[4]'"
      ]
     },
     "execution_count": 127,
     "metadata": {},
     "output_type": "execute_result"
    }
   ],
   "source": [
    "sw"
   ]
  },
  {
   "cell_type": "code",
   "execution_count": 128,
   "id": "b08bd6fd",
   "metadata": {},
   "outputs": [
    {
     "data": {
      "text/plain": [
       "'\"THE SAMSUNG GROUP[3] (OR SIMPLY SAMSUNG, STYLIZED AS SΛMSUNG) (KOREAN: 삼성 [SAMSɅŊ]) IS A SOUTH KOREAN MULTINATIONAL MANUFACTURING CONGLOMERATE HEADQUARTERED IN SAMSUNG TOWN, SEOUL, SOUTH KOREA.[1] IT COMPRISES NUMEROUS AFFILIATED BUSINESSES,[1] MOST OF THEM UNITED UNDER THE SAMSUNG BRAND, AND IS THE LARGEST SOUTH KOREAN CHAEBOL (BUSINESS CONGLOMERATE). AS OF 2020, SAMSUNG HAS THE 8TH HIGHEST GLOBAL BRAND VALUE.[4]'"
      ]
     },
     "execution_count": 128,
     "metadata": {},
     "output_type": "execute_result"
    }
   ],
   "source": [
    "sw.upper()"
   ]
  },
  {
   "cell_type": "code",
   "execution_count": 129,
   "id": "1562721f",
   "metadata": {},
   "outputs": [
    {
     "data": {
      "text/plain": [
       "'\"the samsung group[3] (or simply samsung, stylized as sλmsung) (korean: 삼성 [samsʌŋ]) is a south korean multinational manufacturing conglomerate headquartered in samsung town, seoul, south korea.[1] it comprises numerous affiliated businesses,[1] most of them united under the samsung brand, and is the largest south korean chaebol (business conglomerate). as of 2020, samsung has the 8th highest global brand value.[4]'"
      ]
     },
     "execution_count": 129,
     "metadata": {},
     "output_type": "execute_result"
    }
   ],
   "source": [
    "sw.lower()"
   ]
  },
  {
   "cell_type": "code",
   "execution_count": 130,
   "id": "9948a970",
   "metadata": {},
   "outputs": [
    {
     "data": {
      "text/plain": [
       "'\"the samsung group[3] (or simply samsung, stylized as sλmsung) (korean: 삼성 [samsʌŋ]) is a south korean multinational manufacturing conglomerate headquartered in samsung town, seoul, south korea.[1] it comprises numerous affiliated businesses,[1] most of them united under the samsung brand, and is the largest south korean chaebol (business conglomerate). as of 2020, samsung has the 8th highest global brand value.[4]'"
      ]
     },
     "execution_count": 130,
     "metadata": {},
     "output_type": "execute_result"
    }
   ],
   "source": [
    "sw.capitalize()"
   ]
  },
  {
   "cell_type": "code",
   "execution_count": 132,
   "id": "069eb186",
   "metadata": {},
   "outputs": [
    {
     "data": {
      "text/plain": [
       "254"
      ]
     },
     "execution_count": 132,
     "metadata": {},
     "output_type": "execute_result"
    }
   ],
   "source": [
    "sw.find('the')"
   ]
  },
  {
   "cell_type": "code",
   "execution_count": 133,
   "id": "cacc7bf4",
   "metadata": {},
   "outputs": [
    {
     "data": {
      "text/plain": [
       "'\"THE SAMSUNG GROUP[3] (OR SIMPLY SAMSUNG, STYLIZED AS SΛMSUNG) (KOREAN: 삼성 [SAMSɅŊ]) IS A SOUTH KOREAN MULTINATIONAL MANUFACTURING CONGLOMERATE HEADQUARTERED IN SAMSUNG TOWN, SEOUL, SOUTH KOREA.[1] IT COMPRISES NUMEROUS AFFILIATED BUSINESSES,[1] MOST OF THEM UNITED UNDER THE SAMSUNG BRAND, AND IS THE LARGEST SOUTH KOREAN CHAEBOL (BUSINESS CONGLOMERATE). AS OF 2020, SAMSUNG HAS THE 8TH HIGHEST GLOBAL BRAND VALUE.[4]'"
      ]
     },
     "execution_count": 133,
     "metadata": {},
     "output_type": "execute_result"
    }
   ],
   "source": [
    "sw.upper()"
   ]
  },
  {
   "cell_type": "code",
   "execution_count": 134,
   "id": "0c721e1e",
   "metadata": {},
   "outputs": [
    {
     "data": {
      "text/plain": [
       "'one the go'"
      ]
     },
     "execution_count": 134,
     "metadata": {},
     "output_type": "execute_result"
    }
   ],
   "source": [
    "r=\"one the go\"\n",
    "r"
   ]
  },
  {
   "cell_type": "code",
   "execution_count": 135,
   "id": "7c65724a",
   "metadata": {},
   "outputs": [
    {
     "data": {
      "text/plain": [
       "' the g'"
      ]
     },
     "execution_count": 135,
     "metadata": {},
     "output_type": "execute_result"
    }
   ],
   "source": [
    "r[-7:-1:1]"
   ]
  },
  {
   "cell_type": "code",
   "execution_count": 136,
   "id": "316b0f2b",
   "metadata": {},
   "outputs": [
    {
     "data": {
      "text/plain": [
       "'og eht'"
      ]
     },
     "execution_count": 136,
     "metadata": {},
     "output_type": "execute_result"
    }
   ],
   "source": [
    "r[-1:-7:-1]"
   ]
  },
  {
   "cell_type": "code",
   "execution_count": 137,
   "id": "c68da6b9",
   "metadata": {},
   "outputs": [
    {
     "data": {
      "text/plain": [
       "''"
      ]
     },
     "execution_count": 137,
     "metadata": {},
     "output_type": "execute_result"
    }
   ],
   "source": [
    "r[4:1:6]"
   ]
  },
  {
   "cell_type": "code",
   "execution_count": 139,
   "id": "dda0e02a",
   "metadata": {},
   "outputs": [
    {
     "data": {
      "text/plain": [
       "'the g'"
      ]
     },
     "execution_count": 139,
     "metadata": {},
     "output_type": "execute_result"
    }
   ],
   "source": [
    "r[4:-1:1]"
   ]
  },
  {
   "cell_type": "code",
   "execution_count": null,
   "id": "a3e5f53b",
   "metadata": {},
   "outputs": [],
   "source": []
  }
 ],
 "metadata": {
  "kernelspec": {
   "display_name": "Python 3 (ipykernel)",
   "language": "python",
   "name": "python3"
  },
  "language_info": {
   "codemirror_mode": {
    "name": "ipython",
    "version": 3
   },
   "file_extension": ".py",
   "mimetype": "text/x-python",
   "name": "python",
   "nbconvert_exporter": "python",
   "pygments_lexer": "ipython3",
   "version": "3.9.12"
  }
 },
 "nbformat": 4,
 "nbformat_minor": 5
}
